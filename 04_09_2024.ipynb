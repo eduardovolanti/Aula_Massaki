{
  "nbformat": 4,
  "nbformat_minor": 0,
  "metadata": {
    "colab": {
      "provenance": [],
      "authorship_tag": "ABX9TyNgPgpzLvmjaaD9Tb4IcMNl",
      "include_colab_link": true
    },
    "kernelspec": {
      "name": "python3",
      "display_name": "Python 3"
    },
    "language_info": {
      "name": "python"
    }
  },
  "cells": [
    {
      "cell_type": "markdown",
      "metadata": {
        "id": "view-in-github",
        "colab_type": "text"
      },
      "source": [
        "<a href=\"https://colab.research.google.com/github/eduardovolanti/Aula_Massaki/blob/main/04_09_2024.ipynb\" target=\"_parent\"><img src=\"https://colab.research.google.com/assets/colab-badge.svg\" alt=\"Open In Colab\"/></a>"
      ]
    },
    {
      "cell_type": "markdown",
      "source": [
        "Aula 02 - 04.09.2024\n",
        "\n",
        "Conversão polegada para miimetro"
      ],
      "metadata": {
        "id": "fvxOVLnKi-vn"
      }
    },
    {
      "cell_type": "code",
      "execution_count": 10,
      "metadata": {
        "colab": {
          "base_uri": "https://localhost:8080/"
        },
        "id": "vrTFWfKjhY0j",
        "outputId": "0349d73b-a936-4a1e-a768-b181b1830aba"
      },
      "outputs": [
        {
          "output_type": "stream",
          "name": "stdout",
          "text": [
            "digite polegadas:1\n",
            "valor em milimetros 25.4\n"
          ]
        }
      ],
      "source": [
        "P = float (input(\"digite polegadas:\"))\n",
        "mm = P*25.4\n",
        "print(\"valor em milimetros\",mm)\n",
        "\n"
      ]
    },
    {
      "cell_type": "markdown",
      "source": [
        "calculo colume de esfera"
      ],
      "metadata": {
        "id": "COatra2xlAs1"
      }
    },
    {
      "cell_type": "code",
      "source": [
        "from math import pi\n",
        "R = float (input(\"digite valor do raio em centimetros:\"))\n",
        "v = (4/3)*pi*R**3\n",
        "print(v)"
      ],
      "metadata": {
        "colab": {
          "base_uri": "https://localhost:8080/"
        },
        "id": "lWFuhci-k_-u",
        "outputId": "bd2ea5c2-0fc4-46a7-a545-667f85373c00"
      },
      "execution_count": 15,
      "outputs": [
        {
          "output_type": "stream",
          "name": "stdout",
          "text": [
            "digite valor do raio em centimetros:10\n",
            "4188.790204786391\n"
          ]
        }
      ]
    },
    {
      "cell_type": "markdown",
      "source": [
        "graus para radianos"
      ],
      "metadata": {
        "id": "KwrD_bGtn_3j"
      }
    },
    {
      "cell_type": "code",
      "source": [
        "from math import pi\n",
        "Vgraus = float(input(\"digite valor em graus:\"))\n",
        "Vrad = (Vgraus*pi)/180\n",
        "print(Vrad)"
      ],
      "metadata": {
        "colab": {
          "base_uri": "https://localhost:8080/"
        },
        "id": "dIuKPpMCn_Y0",
        "outputId": "8a893786-e22f-4016-a1c9-0d4a132a174e"
      },
      "execution_count": 22,
      "outputs": [
        {
          "output_type": "stream",
          "name": "stdout",
          "text": [
            "digite valor em graus:10\n",
            "0.17453292519943295\n"
          ]
        }
      ]
    },
    {
      "cell_type": "markdown",
      "source": [
        "radianos para graus"
      ],
      "metadata": {
        "id": "dgUlT9ZzptVw"
      }
    },
    {
      "cell_type": "code",
      "source": [
        "from math import pi\n",
        "Vrad = float(input(\"digite valor em radianos:\"))\n",
        "Vgraus = (180/pi)*Vrad\n",
        "print(Vgraus)"
      ],
      "metadata": {
        "colab": {
          "base_uri": "https://localhost:8080/"
        },
        "id": "1HHHprkeptOY",
        "outputId": "18ba130a-dbd2-4470-a6e8-a419e0dc0bd2"
      },
      "execution_count": 25,
      "outputs": [
        {
          "output_type": "stream",
          "name": "stdout",
          "text": [
            "digite valor em radianos:10\n",
            "572.9577951308232\n"
          ]
        }
      ]
    },
    {
      "cell_type": "markdown",
      "source": [
        "radianos para grados"
      ],
      "metadata": {
        "id": "SJZlsO1ft2jU"
      }
    },
    {
      "cell_type": "code",
      "source": [
        "\n",
        "from math import pi\n",
        "Vrad = float(input(\"digite valor em radianos:\"))\n",
        "Vgrados = Vrad*400/(2*pi)\n",
        "print(Vgrados)"
      ],
      "metadata": {
        "colab": {
          "base_uri": "https://localhost:8080/"
        },
        "id": "ebpH3gKat2JV",
        "outputId": "149b5515-02c0-41fc-f5c0-d1a63e5a84cb"
      },
      "execution_count": 35,
      "outputs": [
        {
          "output_type": "stream",
          "name": "stdout",
          "text": [
            "digite valor em radianos:10\n",
            "636.6197723675814\n"
          ]
        }
      ]
    }
  ]
}