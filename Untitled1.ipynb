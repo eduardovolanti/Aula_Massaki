{
  "nbformat": 4,
  "nbformat_minor": 0,
  "metadata": {
    "colab": {
      "provenance": [],
      "authorship_tag": "ABX9TyOkF0cuhYo//qVyLJZ3tmrm",
      "include_colab_link": true
    },
    "kernelspec": {
      "name": "python3",
      "display_name": "Python 3"
    },
    "language_info": {
      "name": "python"
    }
  },
  "cells": [
    {
      "cell_type": "markdown",
      "metadata": {
        "id": "view-in-github",
        "colab_type": "text"
      },
      "source": [
        "<a href=\"https://colab.research.google.com/github/eduardovolanti/Aula_Massaki/blob/main/Untitled1.ipynb\" target=\"_parent\"><img src=\"https://colab.research.google.com/assets/colab-badge.svg\" alt=\"Open In Colab\"/></a>"
      ]
    },
    {
      "cell_type": "markdown",
      "source": [
        "aula 25.09.2024"
      ],
      "metadata": {
        "id": "MOHlj-NE3AP1"
      }
    },
    {
      "cell_type": "code",
      "execution_count": 32,
      "metadata": {
        "colab": {
          "base_uri": "https://localhost:8080/"
        },
        "id": "R6canxfWm-o0",
        "outputId": "30a3f058-f014-4cac-9cfd-0cc58eacabfa"
      },
      "outputs": [
        {
          "output_type": "stream",
          "name": "stdout",
          "text": [
            "deseja realizar a soma de 2 variaveis? (S/N)s\n",
            "digite o valor da primeira variavel: 10\n",
            "digite o valor da segunda variavel: 25\n",
            "a soma de 10.0 e 25.0 é: 35.00\n",
            "\n",
            "deseja realizar a soma de 2 variaveis? (S/N)n\n",
            "operação finalizada.\n"
          ]
        }
      ],
      "source": [
        "while True:\n",
        "  resposta = input(\"deseja realizar a soma de 2 variaveis? (S/N)\").strip().upper()\n",
        "\n",
        "  if resposta == 'S':\n",
        "    var1 = float(input(\"digite o valor da primeira variavel: \"))\n",
        "    var2 = float(input(\"digite o valor da segunda variavel: \"))\n",
        "\n",
        "    soma = var1 + var2\n",
        "\n",
        "    print(f\"a soma de {var1} e {var2} é: {soma:.2f}\\n\")\n",
        "\n",
        "  elif resposta == 'N':\n",
        "    print(\"operação finalizada.\")\n",
        "    break\n",
        "\n",
        "  else:\n",
        "    print(\"resposta invalida! por favor, digite 'S' para sim ou 'N' para não.\\n\")\n",
        "\n",
        "\n"
      ]
    },
    {
      "cell_type": "code",
      "source": [
        "while True:\n",
        "  resposta = input(\"deseja realizar uma soma?(sim/não):\").lower()\n",
        "\n",
        "  if resposta == \"sim\":\n",
        "    num1 = float(input(\"digite o primeiro numero:\"))\n",
        "    num2 = float(input(\"digite o segundo numero:\"))\n",
        "    soma = num1 + num2 # cauculo de soma\n",
        "    print(f\"a soma de {num1} e {num2} é: {soma}\\n\")\n",
        "\n",
        "  else:\n",
        "    print(\"encerrando o programa.\")\n",
        "    break"
      ],
      "metadata": {
        "colab": {
          "base_uri": "https://localhost:8080/"
        },
        "id": "peEULJTqyl2k",
        "outputId": "42296b83-64a9-4867-ed06-ad6bc8d87dcb"
      },
      "execution_count": 25,
      "outputs": [
        {
          "output_type": "stream",
          "name": "stdout",
          "text": [
            "deseja realizar uma soma?(sim/não):nao\n",
            "encerrando o programa.\n"
          ]
        }
      ]
    }
  ]
}